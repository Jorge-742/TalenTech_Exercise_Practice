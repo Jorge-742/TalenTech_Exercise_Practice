{
  "nbformat": 4,
  "nbformat_minor": 0,
  "metadata": {
    "colab": {
      "provenance": [],
      "mount_file_id": "1opfdI_AOSEv_XIQe7b37tphmaZ5UEOmN",
      "authorship_tag": "ABX9TyPoI4pIlVGCtB/1HnOofMdd",
      "include_colab_link": true
    },
    "kernelspec": {
      "name": "python3",
      "display_name": "Python 3"
    },
    "language_info": {
      "name": "python"
    }
  },
  "cells": [
    {
      "cell_type": "markdown",
      "metadata": {
        "id": "view-in-github",
        "colab_type": "text"
      },
      "source": [
        "<a href=\"https://colab.research.google.com/github/Jorge-742/TalenTech_Exercise_Practice/blob/main/Laboratorio_9_calidad_y_verificacion_datos.ipynb\" target=\"_parent\"><img src=\"https://colab.research.google.com/assets/colab-badge.svg\" alt=\"Open In Colab\"/></a>"
      ]
    },
    {
      "cell_type": "markdown",
      "source": [
        "# Laboratorio 9.\n",
        "\n"
      ],
      "metadata": {
        "id": "FnYMI6-McV9d"
      }
    },
    {
      "cell_type": "code",
      "source": [
        "import pandas as pd\n"
      ],
      "metadata": {
        "id": "z5oSTmoTekhh"
      },
      "execution_count": null,
      "outputs": []
    },
    {
      "cell_type": "markdown",
      "source": [
        "\n",
        "**Parte 1.**\n",
        "\n",
        "**Ejercicio de práctica 1.**\n",
        "\n",
        "Aseguramiento de la Calidad de los Datos\n",
        "1. Se tiene un conjunto de datos sobre empleados que incluye su nombre, edad, salario y fecha de ingreso. Se requiere implementar algunos pasos de aseguramiento de la calidad de los datos, como la verificación de valores faltantes y la validación de formatos de datos.\n",
        "\n",
        "- Se requiere:\n",
        "1. Identificar y contar los valores faltantes en cada columna.\n",
        "2. Verificar el formato de la columna 'Salario' para asegurar que todos los valores\n",
        "sean numéricos.\n",
        "3. Validar y estandarizar el formato de la columna 'Fecha Ingreso' a YYYY-MM-DD.\n",
        "\n",
        "\n"
      ],
      "metadata": {
        "id": "dE7-lFJRckyW"
      }
    },
    {
      "cell_type": "code",
      "source": [
        "# Datos\n",
        "\n",
        "data = {'Nombre': ['Juan','Ana', 'Pedro', 'María','Luis','Ana'],\n",
        "        'Edad': [28, 34, None, 45, 38, 34],\n",
        "        'Salario' : [3000, 4000, 'cinco mil', 4500, 4000, 5000],\n",
        "        'Fecha Ingreso' : ['2021-01-15', '2020/03/12', '2022-07-01', '2021/12/01', '2021-05-20',\n",
        "'2020-03-12'\n",
        "]}\n",
        "\n",
        "df = pd.DataFrame(data)\n",
        "print(df)\n"
      ],
      "metadata": {
        "id": "iikavWzddJeI",
        "colab": {
          "base_uri": "https://localhost:8080/"
        },
        "outputId": "2cace467-e835-4885-9f3f-5228199aec1b"
      },
      "execution_count": null,
      "outputs": [
        {
          "output_type": "stream",
          "name": "stdout",
          "text": [
            "  Nombre  Edad    Salario Fecha Ingreso\n",
            "0   Juan  28.0       3000    2021-01-15\n",
            "1    Ana  34.0       4000    2020/03/12\n",
            "2  Pedro   NaN  cinco mil    2022-07-01\n",
            "3  María  45.0       4500    2021/12/01\n",
            "4   Luis  38.0       4000    2021-05-20\n",
            "5    Ana  34.0       5000    2020-03-12\n"
          ]
        }
      ]
    },
    {
      "cell_type": "code",
      "source": [
        "# 1. Identificación y conteo de valores faltantes en cada columna\n",
        "print('\\n Identificación de valor faltante por columna')\n",
        "valores_faltantes = df.isnull().sum()\n",
        "print(valores_faltantes)\n",
        "\n",
        "\n",
        "# Verificación del formato de la columna salario\n",
        "\n",
        "df['Salario'] = df['Salario'].astype(str)\n",
        "salario_incorrecto = df[~df['Salario'].str.replace('[^0-9.]', '', regex=True).str.isdigit()]\n",
        "print('\\nSalarios con formato incorrecto:')\n",
        "print(salario_incorrecto)\n",
        "\n",
        "# Verificación y estandarización de formato de fecha.\n",
        "df['Fecha Ingreso'] = pd.to_datetime(df['Fecha Ingreso'], errors='coerce', format='%Y-%m-%d')\n",
        "print('\\nDatos después de la estandarización de formato de fecha')\n",
        "print(df)"
      ],
      "metadata": {
        "id": "TqHyZkbGeZ_4",
        "colab": {
          "base_uri": "https://localhost:8080/"
        },
        "outputId": "d4b00ee3-075a-4032-c68f-971fb52919b0"
      },
      "execution_count": null,
      "outputs": [
        {
          "output_type": "stream",
          "name": "stdout",
          "text": [
            "\n",
            " Identificación de valor faltante por columna\n",
            "Nombre           0\n",
            "Edad             1\n",
            "Salario          0\n",
            "Fecha Ingreso    0\n",
            "dtype: int64\n",
            "\n",
            "Salarios con formato incorrecto:\n",
            "  Nombre  Edad    Salario Fecha Ingreso\n",
            "2  Pedro   NaN  cinco mil    2022-07-01\n",
            "\n",
            "Datos después de la estandarización de formato de fecha\n",
            "  Nombre  Edad    Salario Fecha Ingreso\n",
            "0   Juan  28.0       3000    2021-01-15\n",
            "1    Ana  34.0       4000           NaT\n",
            "2  Pedro   NaN  cinco mil    2022-07-01\n",
            "3  María  45.0       4500           NaT\n",
            "4   Luis  38.0       4000    2021-05-20\n",
            "5    Ana  34.0       5000    2020-03-12\n"
          ]
        }
      ]
    },
    {
      "cell_type": "markdown",
      "source": [
        "\n",
        "\n",
        "---\n",
        "\n"
      ],
      "metadata": {
        "id": "ZsgP8YA7R2Wv"
      }
    },
    {
      "cell_type": "markdown",
      "source": [
        "**Ejercicio 2.**\n",
        "- Se tiene un conjunto de datos sobre empleados que incluye su nombre, edad, salario, puesto de trabajo y fecha de ingreso. Se requiere implementar aseguramiento de la calidad de los datos, verificando la completitud de los datos, la validez de los salarios y la consistencia de las fechas de ingreso.\n",
        "\n",
        "Se requiere:\n",
        "1. Identificar y contar los valores faltantes en cada columna.\n",
        "2. Verificar el formato de la columna \"Salario\" para asegurarse de que todos los\n",
        "valores sean numéricos.\n",
        "3. Validar y estandarizar el formato de la columna \"FechaIngreso\" a YYYY-MM-DD.\n",
        "4. Verificar que no haya valores faltantes en la columna \"Cargo\""
      ],
      "metadata": {
        "id": "X_usxliTUxUn"
      }
    },
    {
      "cell_type": "code",
      "source": [
        "# Datos\n",
        "\n",
        "datos =  {'Nombre': ['Juan', 'Ana', 'Pedro', 'María', 'Luis', 'Carla'],\n",
        "       'Edad': [28, None, 40, 45, 38, 34],\n",
        "       'Salario': ['3000', '4000', '4500', 'cuatro mil', '5000', '4000'],\n",
        "       'Cargo': ['Analista', 'Gerente', 'Desarrollador', 'Gerente', 'Analista', None],\n",
        "       'Fecha Ingreso': ['2021-01-15', '2020/03/12', '2022-07-01', '2021/12/01', None, '2020-03-12']}\n",
        "\n",
        "df2 = pd.DataFrame(datos)\n",
        "print(df)\n"
      ],
      "metadata": {
        "colab": {
          "base_uri": "https://localhost:8080/"
        },
        "id": "eNT4p3LnI6Yl",
        "outputId": "e9f5a1c6-59fa-421d-bbfa-7e696767c2d3"
      },
      "execution_count": null,
      "outputs": [
        {
          "output_type": "stream",
          "name": "stdout",
          "text": [
            "  Nombre  Edad     Salario          Cargo Fecha Ingreso\n",
            "0   Juan  28.0        3000       Analista    2021-01-15\n",
            "1    Ana   NaN        4000        Gerente    2020/03/12\n",
            "2  Pedro  40.0        4500  Desarrollador    2022-07-01\n",
            "3  María  45.0  cuatro mil        Gerente    2021/12/01\n",
            "4   Luis  38.0        5000       Analista          None\n",
            "5  Carla  34.0        4000           None    2020-03-12\n"
          ]
        }
      ]
    },
    {
      "cell_type": "code",
      "source": [
        "# Identificación valores faltantes en cada columna\n",
        "valores_faltantes = df2.isnull().sum()\n",
        "print('\\n Identificación de valor faltante por columna')\n",
        "print(valores_faltantes)\n",
        "\n",
        "# verificación del formato de la columna salario\n",
        "salario_incorrecto = df2[~df2['Salario'].str.replace('[^0-9.]', '', regex=True).str.isdigit()]\n",
        "print('\\nSalarios con formato incorrecto:')\n",
        "print(salario_incorrecto)\n",
        "\n",
        "# Validación y estandarización del formato fecha\n",
        "df2['Fecha Ingreso'] = pd.to_datetime(df2['Fecha Ingreso'], errors='coerce', format='%Y-%m-%d')\n",
        "print('\\nDatos después de la estandarización de formato de fecha')\n",
        "print(df2)\n",
        "\n",
        "# Verificación de valores faltantes en la columna cargo\n",
        "cargo_faltantes = df2[df2['Cargo'].isnull()]\n",
        "print('\\nCantidad de valores faltantes en la columna Cargo:')\n",
        "print(cargo_faltantes)\n"
      ],
      "metadata": {
        "colab": {
          "base_uri": "https://localhost:8080/"
        },
        "id": "EmceolghWqSh",
        "outputId": "604f8e75-481d-40d0-a60e-936cdf87c8c6"
      },
      "execution_count": null,
      "outputs": [
        {
          "output_type": "stream",
          "name": "stdout",
          "text": [
            "\n",
            " Identificación de valor faltante por columna\n",
            "Nombre           0\n",
            "Edad             1\n",
            "Salario          0\n",
            "Cargo            1\n",
            "Fecha Ingreso    3\n",
            "dtype: int64\n",
            "\n",
            "Salarios con formato incorrecto:\n",
            "  Nombre  Edad     Salario    Cargo Fecha Ingreso\n",
            "3  María  45.0  cuatro mil  Gerente           NaT\n",
            "\n",
            "Datos después de la estandarización de formato de fecha\n",
            "  Nombre  Edad     Salario          Cargo Fecha Ingreso\n",
            "0   Juan  28.0        3000       Analista    2021-01-15\n",
            "1    Ana   NaN        4000        Gerente           NaT\n",
            "2  Pedro  40.0        4500  Desarrollador    2022-07-01\n",
            "3  María  45.0  cuatro mil        Gerente           NaT\n",
            "4   Luis  38.0        5000       Analista           NaT\n",
            "5  Carla  34.0        4000           None    2020-03-12\n",
            "\n",
            "Cantidad de valores faltantes en la columna Cargo:\n",
            "  Nombre  Edad Salario Cargo Fecha Ingreso\n",
            "5  Carla  34.0    4000  None    2020-03-12\n"
          ]
        }
      ]
    },
    {
      "cell_type": "markdown",
      "source": [
        "\n",
        "\n",
        "---\n",
        "\n"
      ],
      "metadata": {
        "id": "FYxH1Hz9YzPj"
      }
    },
    {
      "cell_type": "markdown",
      "source": [
        "#### Parte 2.\n",
        "\n",
        "**Ejercicio 1.**\n",
        "Se requiere validar los datos: Precios de Productos, se tiene una lista de productos con los respectivos precios y se necesita validar que ningún precio sea negativo o nulo.\n",
        "\n",
        "- Se requiere:\n",
        "1. Crear un DataFrame con productos y precios.\n",
        "2. Producto: Producto A, Producto B,Producto C,Producto D.\n",
        "3. Precio:150, -25, 100, None.\n",
        "4. Validar que todos los precios sean mayores o iguales a cero y no nulos.\n",
        "5. Mostrar los productos con precios inválidos."
      ],
      "metadata": {
        "id": "n5pBIi7PY032"
      }
    },
    {
      "cell_type": "code",
      "source": [
        "# Datos\n",
        "\n",
        "datos = {'Producto' : ['productoA', 'productoB', 'productoC', 'productoD'],\n",
        "         'Precio': [150, -25, 100, None]}\n",
        "\n",
        "df3 = pd.DataFrame(datos)\n",
        "print(df3)"
      ],
      "metadata": {
        "colab": {
          "base_uri": "https://localhost:8080/"
        },
        "id": "xq2h7BvkZVbY",
        "outputId": "c681ea8a-79aa-4440-b33d-1ab21032f4cc"
      },
      "execution_count": null,
      "outputs": [
        {
          "output_type": "stream",
          "name": "stdout",
          "text": [
            "    Producto  Precio\n",
            "0  productoA   150.0\n",
            "1  productoB   -25.0\n",
            "2  productoC   100.0\n",
            "3  productoD     NaN\n"
          ]
        }
      ]
    },
    {
      "cell_type": "code",
      "execution_count": null,
      "metadata": {
        "id": "pkA54vbJ4k5W",
        "colab": {
          "base_uri": "https://localhost:8080/",
          "height": 175
        },
        "outputId": "81d5ce99-a1ed-4280-9684-e67f2f1bf0d7"
      },
      "outputs": [
        {
          "output_type": "execute_result",
          "data": {
            "text/plain": [
              "    Producto  Precio Validación Precio\n",
              "0  productoA   150.0            válido\n",
              "1  productoB   -25.0          Inválido\n",
              "2  productoC   100.0            válido\n",
              "3  productoD     NaN          Inválido"
            ],
            "text/html": [
              "\n",
              "  <div id=\"df-d132b31e-2b65-4389-9295-591788f03a8a\" class=\"colab-df-container\">\n",
              "    <div>\n",
              "<style scoped>\n",
              "    .dataframe tbody tr th:only-of-type {\n",
              "        vertical-align: middle;\n",
              "    }\n",
              "\n",
              "    .dataframe tbody tr th {\n",
              "        vertical-align: top;\n",
              "    }\n",
              "\n",
              "    .dataframe thead th {\n",
              "        text-align: right;\n",
              "    }\n",
              "</style>\n",
              "<table border=\"1\" class=\"dataframe\">\n",
              "  <thead>\n",
              "    <tr style=\"text-align: right;\">\n",
              "      <th></th>\n",
              "      <th>Producto</th>\n",
              "      <th>Precio</th>\n",
              "      <th>Validación Precio</th>\n",
              "    </tr>\n",
              "  </thead>\n",
              "  <tbody>\n",
              "    <tr>\n",
              "      <th>0</th>\n",
              "      <td>productoA</td>\n",
              "      <td>150.0</td>\n",
              "      <td>válido</td>\n",
              "    </tr>\n",
              "    <tr>\n",
              "      <th>1</th>\n",
              "      <td>productoB</td>\n",
              "      <td>-25.0</td>\n",
              "      <td>Inválido</td>\n",
              "    </tr>\n",
              "    <tr>\n",
              "      <th>2</th>\n",
              "      <td>productoC</td>\n",
              "      <td>100.0</td>\n",
              "      <td>válido</td>\n",
              "    </tr>\n",
              "    <tr>\n",
              "      <th>3</th>\n",
              "      <td>productoD</td>\n",
              "      <td>NaN</td>\n",
              "      <td>Inválido</td>\n",
              "    </tr>\n",
              "  </tbody>\n",
              "</table>\n",
              "</div>\n",
              "    <div class=\"colab-df-buttons\">\n",
              "\n",
              "  <div class=\"colab-df-container\">\n",
              "    <button class=\"colab-df-convert\" onclick=\"convertToInteractive('df-d132b31e-2b65-4389-9295-591788f03a8a')\"\n",
              "            title=\"Convert this dataframe to an interactive table.\"\n",
              "            style=\"display:none;\">\n",
              "\n",
              "  <svg xmlns=\"http://www.w3.org/2000/svg\" height=\"24px\" viewBox=\"0 -960 960 960\">\n",
              "    <path d=\"M120-120v-720h720v720H120Zm60-500h600v-160H180v160Zm220 220h160v-160H400v160Zm0 220h160v-160H400v160ZM180-400h160v-160H180v160Zm440 0h160v-160H620v160ZM180-180h160v-160H180v160Zm440 0h160v-160H620v160Z\"/>\n",
              "  </svg>\n",
              "    </button>\n",
              "\n",
              "  <style>\n",
              "    .colab-df-container {\n",
              "      display:flex;\n",
              "      gap: 12px;\n",
              "    }\n",
              "\n",
              "    .colab-df-convert {\n",
              "      background-color: #E8F0FE;\n",
              "      border: none;\n",
              "      border-radius: 50%;\n",
              "      cursor: pointer;\n",
              "      display: none;\n",
              "      fill: #1967D2;\n",
              "      height: 32px;\n",
              "      padding: 0 0 0 0;\n",
              "      width: 32px;\n",
              "    }\n",
              "\n",
              "    .colab-df-convert:hover {\n",
              "      background-color: #E2EBFA;\n",
              "      box-shadow: 0px 1px 2px rgba(60, 64, 67, 0.3), 0px 1px 3px 1px rgba(60, 64, 67, 0.15);\n",
              "      fill: #174EA6;\n",
              "    }\n",
              "\n",
              "    .colab-df-buttons div {\n",
              "      margin-bottom: 4px;\n",
              "    }\n",
              "\n",
              "    [theme=dark] .colab-df-convert {\n",
              "      background-color: #3B4455;\n",
              "      fill: #D2E3FC;\n",
              "    }\n",
              "\n",
              "    [theme=dark] .colab-df-convert:hover {\n",
              "      background-color: #434B5C;\n",
              "      box-shadow: 0px 1px 3px 1px rgba(0, 0, 0, 0.15);\n",
              "      filter: drop-shadow(0px 1px 2px rgba(0, 0, 0, 0.3));\n",
              "      fill: #FFFFFF;\n",
              "    }\n",
              "  </style>\n",
              "\n",
              "    <script>\n",
              "      const buttonEl =\n",
              "        document.querySelector('#df-d132b31e-2b65-4389-9295-591788f03a8a button.colab-df-convert');\n",
              "      buttonEl.style.display =\n",
              "        google.colab.kernel.accessAllowed ? 'block' : 'none';\n",
              "\n",
              "      async function convertToInteractive(key) {\n",
              "        const element = document.querySelector('#df-d132b31e-2b65-4389-9295-591788f03a8a');\n",
              "        const dataTable =\n",
              "          await google.colab.kernel.invokeFunction('convertToInteractive',\n",
              "                                                    [key], {});\n",
              "        if (!dataTable) return;\n",
              "\n",
              "        const docLinkHtml = 'Like what you see? Visit the ' +\n",
              "          '<a target=\"_blank\" href=https://colab.research.google.com/notebooks/data_table.ipynb>data table notebook</a>'\n",
              "          + ' to learn more about interactive tables.';\n",
              "        element.innerHTML = '';\n",
              "        dataTable['output_type'] = 'display_data';\n",
              "        await google.colab.output.renderOutput(dataTable, element);\n",
              "        const docLink = document.createElement('div');\n",
              "        docLink.innerHTML = docLinkHtml;\n",
              "        element.appendChild(docLink);\n",
              "      }\n",
              "    </script>\n",
              "  </div>\n",
              "\n",
              "\n",
              "<div id=\"df-003cdbf7-9225-4ae0-97fd-a1053972f729\">\n",
              "  <button class=\"colab-df-quickchart\" onclick=\"quickchart('df-003cdbf7-9225-4ae0-97fd-a1053972f729')\"\n",
              "            title=\"Suggest charts\"\n",
              "            style=\"display:none;\">\n",
              "\n",
              "<svg xmlns=\"http://www.w3.org/2000/svg\" height=\"24px\"viewBox=\"0 0 24 24\"\n",
              "     width=\"24px\">\n",
              "    <g>\n",
              "        <path d=\"M19 3H5c-1.1 0-2 .9-2 2v14c0 1.1.9 2 2 2h14c1.1 0 2-.9 2-2V5c0-1.1-.9-2-2-2zM9 17H7v-7h2v7zm4 0h-2V7h2v10zm4 0h-2v-4h2v4z\"/>\n",
              "    </g>\n",
              "</svg>\n",
              "  </button>\n",
              "\n",
              "<style>\n",
              "  .colab-df-quickchart {\n",
              "      --bg-color: #E8F0FE;\n",
              "      --fill-color: #1967D2;\n",
              "      --hover-bg-color: #E2EBFA;\n",
              "      --hover-fill-color: #174EA6;\n",
              "      --disabled-fill-color: #AAA;\n",
              "      --disabled-bg-color: #DDD;\n",
              "  }\n",
              "\n",
              "  [theme=dark] .colab-df-quickchart {\n",
              "      --bg-color: #3B4455;\n",
              "      --fill-color: #D2E3FC;\n",
              "      --hover-bg-color: #434B5C;\n",
              "      --hover-fill-color: #FFFFFF;\n",
              "      --disabled-bg-color: #3B4455;\n",
              "      --disabled-fill-color: #666;\n",
              "  }\n",
              "\n",
              "  .colab-df-quickchart {\n",
              "    background-color: var(--bg-color);\n",
              "    border: none;\n",
              "    border-radius: 50%;\n",
              "    cursor: pointer;\n",
              "    display: none;\n",
              "    fill: var(--fill-color);\n",
              "    height: 32px;\n",
              "    padding: 0;\n",
              "    width: 32px;\n",
              "  }\n",
              "\n",
              "  .colab-df-quickchart:hover {\n",
              "    background-color: var(--hover-bg-color);\n",
              "    box-shadow: 0 1px 2px rgba(60, 64, 67, 0.3), 0 1px 3px 1px rgba(60, 64, 67, 0.15);\n",
              "    fill: var(--button-hover-fill-color);\n",
              "  }\n",
              "\n",
              "  .colab-df-quickchart-complete:disabled,\n",
              "  .colab-df-quickchart-complete:disabled:hover {\n",
              "    background-color: var(--disabled-bg-color);\n",
              "    fill: var(--disabled-fill-color);\n",
              "    box-shadow: none;\n",
              "  }\n",
              "\n",
              "  .colab-df-spinner {\n",
              "    border: 2px solid var(--fill-color);\n",
              "    border-color: transparent;\n",
              "    border-bottom-color: var(--fill-color);\n",
              "    animation:\n",
              "      spin 1s steps(1) infinite;\n",
              "  }\n",
              "\n",
              "  @keyframes spin {\n",
              "    0% {\n",
              "      border-color: transparent;\n",
              "      border-bottom-color: var(--fill-color);\n",
              "      border-left-color: var(--fill-color);\n",
              "    }\n",
              "    20% {\n",
              "      border-color: transparent;\n",
              "      border-left-color: var(--fill-color);\n",
              "      border-top-color: var(--fill-color);\n",
              "    }\n",
              "    30% {\n",
              "      border-color: transparent;\n",
              "      border-left-color: var(--fill-color);\n",
              "      border-top-color: var(--fill-color);\n",
              "      border-right-color: var(--fill-color);\n",
              "    }\n",
              "    40% {\n",
              "      border-color: transparent;\n",
              "      border-right-color: var(--fill-color);\n",
              "      border-top-color: var(--fill-color);\n",
              "    }\n",
              "    60% {\n",
              "      border-color: transparent;\n",
              "      border-right-color: var(--fill-color);\n",
              "    }\n",
              "    80% {\n",
              "      border-color: transparent;\n",
              "      border-right-color: var(--fill-color);\n",
              "      border-bottom-color: var(--fill-color);\n",
              "    }\n",
              "    90% {\n",
              "      border-color: transparent;\n",
              "      border-bottom-color: var(--fill-color);\n",
              "    }\n",
              "  }\n",
              "</style>\n",
              "\n",
              "  <script>\n",
              "    async function quickchart(key) {\n",
              "      const quickchartButtonEl =\n",
              "        document.querySelector('#' + key + ' button');\n",
              "      quickchartButtonEl.disabled = true;  // To prevent multiple clicks.\n",
              "      quickchartButtonEl.classList.add('colab-df-spinner');\n",
              "      try {\n",
              "        const charts = await google.colab.kernel.invokeFunction(\n",
              "            'suggestCharts', [key], {});\n",
              "      } catch (error) {\n",
              "        console.error('Error during call to suggestCharts:', error);\n",
              "      }\n",
              "      quickchartButtonEl.classList.remove('colab-df-spinner');\n",
              "      quickchartButtonEl.classList.add('colab-df-quickchart-complete');\n",
              "    }\n",
              "    (() => {\n",
              "      let quickchartButtonEl =\n",
              "        document.querySelector('#df-003cdbf7-9225-4ae0-97fd-a1053972f729 button');\n",
              "      quickchartButtonEl.style.display =\n",
              "        google.colab.kernel.accessAllowed ? 'block' : 'none';\n",
              "    })();\n",
              "  </script>\n",
              "</div>\n",
              "\n",
              "    </div>\n",
              "  </div>\n"
            ],
            "application/vnd.google.colaboratory.intrinsic+json": {
              "type": "dataframe",
              "variable_name": "df3",
              "summary": "{\n  \"name\": \"df3\",\n  \"rows\": 4,\n  \"fields\": [\n    {\n      \"column\": \"Producto\",\n      \"properties\": {\n        \"dtype\": \"string\",\n        \"num_unique_values\": 4,\n        \"samples\": [\n          \"productoB\",\n          \"productoD\",\n          \"productoA\"\n        ],\n        \"semantic_type\": \"\",\n        \"description\": \"\"\n      }\n    },\n    {\n      \"column\": \"Precio\",\n      \"properties\": {\n        \"dtype\": \"number\",\n        \"std\": 90.13878188659973,\n        \"min\": -25.0,\n        \"max\": 150.0,\n        \"num_unique_values\": 3,\n        \"samples\": [\n          150.0,\n          -25.0,\n          100.0\n        ],\n        \"semantic_type\": \"\",\n        \"description\": \"\"\n      }\n    },\n    {\n      \"column\": \"Validaci\\u00f3n Precio\",\n      \"properties\": {\n        \"dtype\": \"string\",\n        \"num_unique_values\": 2,\n        \"samples\": [\n          \"Inv\\u00e1lido\",\n          \"v\\u00e1lido\"\n        ],\n        \"semantic_type\": \"\",\n        \"description\": \"\"\n      }\n    }\n  ]\n}"
            }
          },
          "metadata": {},
          "execution_count": 60
        }
      ],
      "source": [
        "# Validación de datos\n",
        "df3['Validación Precio'] = df3['Precio'].apply(lambda x: 'válido' if pd.notnull(x) and x>0 else 'Inválido')\n",
        "df3.head()"
      ]
    },
    {
      "cell_type": "markdown",
      "source": [
        "\n",
        "\n",
        "---\n",
        "\n"
      ],
      "metadata": {
        "id": "ir3vUbp2a0J0"
      }
    },
    {
      "cell_type": "markdown",
      "source": [
        "**Ejercicio 2.**\n",
        "Se requiere validar los datos duplicados: Clientes en una Base de Datos, se tiene una lista de clientes donde algunos registros tienen el mismo ID y necesitas identificarlos.\n",
        "\n",
        "Se requiere:\n",
        "1. Crear un DataFrame con información de clientes.\n",
        "2. ID Cliente:1, 2, 3, 2, 4.\n",
        "3. Nombre: Ana, Luis, María, Luis, Carlos\n",
        "4. Verificar si hay duplicados en la columna de ID del cliente.\n",
        "5. Mostrar los registros duplicados."
      ],
      "metadata": {
        "id": "bXN9tWhya2F5"
      }
    },
    {
      "cell_type": "code",
      "source": [
        "# Datos\n",
        "datos = {'ID Cliente': [1, 2, 3, 2, 4],\n",
        "         'Nombre': ['Ana', 'Luis', 'María', 'Luis', 'Carlos']}\n",
        "\n",
        "df4 = pd.DataFrame(datos)\n",
        "print(df4)"
      ],
      "metadata": {
        "colab": {
          "base_uri": "https://localhost:8080/"
        },
        "id": "HJp8yuACR1Ku",
        "outputId": "f90ebadf-2f7c-497a-80e7-210009c2a54c"
      },
      "execution_count": null,
      "outputs": [
        {
          "output_type": "stream",
          "name": "stdout",
          "text": [
            "   ID Cliente  Nombre\n",
            "0           1     Ana\n",
            "1           2    Luis\n",
            "2           3   María\n",
            "3           2    Luis\n",
            "4           4  Carlos\n"
          ]
        }
      ]
    },
    {
      "cell_type": "code",
      "source": [
        "print('\\n Verificación de duplicados')\n",
        "duplicados = df4[df4.duplicated(subset='ID Cliente', keep=False)]\n",
        "print(duplicados)"
      ],
      "metadata": {
        "colab": {
          "base_uri": "https://localhost:8080/"
        },
        "id": "_ecHn967bJZn",
        "outputId": "d7dec6aa-aec2-41b2-f505-cc1b0311500b"
      },
      "execution_count": null,
      "outputs": [
        {
          "output_type": "stream",
          "name": "stdout",
          "text": [
            "\n",
            " Verificación de duplicados\n",
            "   ID Cliente Nombre\n",
            "1           2   Luis\n",
            "3           2   Luis\n"
          ]
        }
      ]
    },
    {
      "cell_type": "markdown",
      "source": [
        "\n",
        "\n",
        "---\n",
        "\n"
      ],
      "metadata": {
        "id": "ttS4hNfmb5O8"
      }
    },
    {
      "cell_type": "markdown",
      "source": [
        "**Ejercicio 3.**\n",
        "Se requiere tener seguridad en los datos: Encriptación y Desencriptación de Datos Sensibles, se tiene un número de tarjeta de crédito que deseas encriptar para protegerlo y luego desencriptarlo para el uso.\n",
        "\n",
        "Se requiere:\n",
        "1. Crear una cadena con datos sensibles (un número de tarjeta 1234-5678-9101-1121).\n",
        "2. Encriptar esos datos utilizando una clave generada.\n",
        "3. Desencriptar los datos y mostrar ambos (encriptado y desencriptado).\n"
      ],
      "metadata": {
        "id": "XQtXzBL_b7gp"
      }
    },
    {
      "cell_type": "code",
      "source": [
        "from cryptography.fernet import Fernet"
      ],
      "metadata": {
        "id": "A4p3tjWucXfE"
      },
      "execution_count": null,
      "outputs": []
    },
    {
      "cell_type": "code",
      "source": [
        "num_tarjeta = '1234-5678-9101-1121'\n",
        "print(num_tarjeta)"
      ],
      "metadata": {
        "colab": {
          "base_uri": "https://localhost:8080/"
        },
        "id": "Ji-HwfNEceuS",
        "outputId": "67bba1ec-5895-491c-a8b6-9c2c1751479e"
      },
      "execution_count": null,
      "outputs": [
        {
          "output_type": "stream",
          "name": "stdout",
          "text": [
            "1234-5678-9101-1121\n"
          ]
        }
      ]
    },
    {
      "cell_type": "code",
      "source": [
        "#encriptación del número de tarjeta\n",
        "clave = Fernet.generate_key()\n",
        "cifrado = Fernet(clave)\n",
        "num_tarjeta_encriptada = cifrado.encrypt(num_tarjeta.encode())\n",
        "print('\\nDatos encriptados')\n",
        "print(num_tarjeta_encriptada)\n",
        "\n",
        "num_tarjeta_desencriptada = cifrado.decrypt(num_tarjeta_encriptada).decode()\n",
        "print('\\nDatos desencriptados')\n",
        "print(num_tarjeta_desencriptada)\n"
      ],
      "metadata": {
        "colab": {
          "base_uri": "https://localhost:8080/"
        },
        "id": "N_bnFGyfcn7l",
        "outputId": "b289f1b1-0333-483d-942a-b7d7eb75a966"
      },
      "execution_count": null,
      "outputs": [
        {
          "output_type": "stream",
          "name": "stdout",
          "text": [
            "\n",
            "Datos encriptados\n",
            "b'gAAAAABnOjvMi70v4bA36pY9XZhBMzb6AruBjrZTCrfLph55uv2dghTfUg61yJoLqmcMrc4bibMziJdXzumcvUi0QSFdkQ6NWDDrAmRa6rSsjOEvPEIfPKQ='\n",
            "\n",
            "Datos desencriptados\n",
            "1234-5678-9101-1121\n"
          ]
        }
      ]
    }
  ]
}