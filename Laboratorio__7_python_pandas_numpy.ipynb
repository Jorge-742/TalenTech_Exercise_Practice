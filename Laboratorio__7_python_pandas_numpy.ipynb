{
  "nbformat": 4,
  "nbformat_minor": 0,
  "metadata": {
    "colab": {
      "provenance": [],
      "mount_file_id": "1rj3GaC-JwnPrBMg5dapnamsunVJS752z",
      "authorship_tag": "ABX9TyMo2wYjARJvguTo9pBTs30l",
      "include_colab_link": true
    },
    "kernelspec": {
      "name": "python3",
      "display_name": "Python 3"
    },
    "language_info": {
      "name": "python"
    }
  },
  "cells": [
    {
      "cell_type": "markdown",
      "metadata": {
        "id": "view-in-github",
        "colab_type": "text"
      },
      "source": [
        "<a href=\"https://colab.research.google.com/github/Jorge-742/TalenTech_Exercise_Practice/blob/main/Laboratorio__7_python_pandas_numpy.ipynb\" target=\"_parent\"><img src=\"https://colab.research.google.com/assets/colab-badge.svg\" alt=\"Open In Colab\"/></a>"
      ]
    },
    {
      "cell_type": "markdown",
      "source": [
        "# Ejercicios Python Laboratorio 7\n"
      ],
      "metadata": {
        "id": "34NvUiIsKZKU"
      }
    },
    {
      "cell_type": "code",
      "execution_count": null,
      "metadata": {
        "id": "pGGGcUMlKFuR"
      },
      "outputs": [],
      "source": [
        "import pandas as pd\n",
        "import numpy as np\n"
      ]
    },
    {
      "cell_type": "markdown",
      "source": [
        "\n",
        "\n",
        "---\n",
        "\n"
      ],
      "metadata": {
        "id": "Su9DSqbealHT"
      }
    },
    {
      "cell_type": "markdown",
      "source": [
        "**Ejercicio de práctica 1.**"
      ],
      "metadata": {
        "id": "cDV1AnlKWuhI"
      }
    },
    {
      "cell_type": "markdown",
      "source": [
        "Crear un DataFrame con los nombres, profesión y países de 8 personas, y luego imprimir el DataFrame.\n"
      ],
      "metadata": {
        "id": "y4MfQ7d-W1OB"
      }
    },
    {
      "cell_type": "code",
      "source": [
        "DataFrame = pd.DataFrame({\n",
        "    'Nombres':['Juan', 'Carlos', 'Miguel', 'Andra', 'Maria', 'Julio', 'Jose', 'Jean Carlos'],\n",
        "    'Profesion': ['Ingeniero', 'Enfermero', 'Arquitecto', 'Modelo', 'Actriz', 'Ingeniero', 'Analista de datos', 'Cocinero'],\n",
        "    'Pais' : ['Perú', 'Colombia', 'España','Costa Rica', 'Argentina', 'Brasil', 'Brasil', 'Bolivia']})\n",
        "print(DataFrame)"
      ],
      "metadata": {
        "colab": {
          "base_uri": "https://localhost:8080/"
        },
        "id": "d6VfjufUXIEz",
        "outputId": "a327fe5d-2319-41ff-b7b2-755db4cbd7f2"
      },
      "execution_count": null,
      "outputs": [
        {
          "output_type": "stream",
          "name": "stdout",
          "text": [
            "       Nombres          Profesion        Pais\n",
            "0         Juan          Ingeniero        Perú\n",
            "1       Carlos          Enfermero    Colombia\n",
            "2       Miguel         Arquitecto      España\n",
            "3        Andra             Modelo  Costa Rica\n",
            "4        Maria             Actriz   Argentina\n",
            "5        Julio          Ingeniero      Brasil\n",
            "6         Jose  Analista de datos      Brasil\n",
            "7  Jean Carlos           Cocinero     Bolivia\n"
          ]
        }
      ]
    },
    {
      "cell_type": "markdown",
      "source": [
        "\n",
        "\n",
        "---\n",
        "\n"
      ],
      "metadata": {
        "id": "20tbCO4vahxf"
      }
    },
    {
      "cell_type": "markdown",
      "source": [
        "Cargar un archivo CSV (puedes usar un archivo de ejemplo en tu entorno) y mostrar las primeras 5 filas.\n"
      ],
      "metadata": {
        "id": "lvou7dLkapqk"
      }
    },
    {
      "cell_type": "code",
      "source": [
        "sales_data = pd.read_csv('/content/drive/MyDrive/Sales.csv')\n",
        "df = sales_data.head(5)\n",
        "print(df)"
      ],
      "metadata": {
        "colab": {
          "base_uri": "https://localhost:8080/"
        },
        "id": "Btb05vb6LiNA",
        "outputId": "028c0d0b-6425-4619-94e2-63a76b09ca0d"
      },
      "execution_count": null,
      "outputs": [
        {
          "output_type": "stream",
          "name": "stdout",
          "text": [
            "   SalesId  StoreId  ProductId        Date  UnitPrice  Quantity\n",
            "0    82319    22726        590  2019-12-02     0.0525        93\n",
            "1    15022    21754        390  2017-11-19     5.1100        28\n",
            "2    11624    71053        883  2020-07-13     7.3675        33\n",
            "3    63101    22914        658  2019-05-12     2.0825        76\n",
            "4    29702    22623        632  2020-07-20     0.6475         8\n"
          ]
        }
      ]
    },
    {
      "cell_type": "markdown",
      "source": [
        "\n",
        "\n",
        "---\n",
        "\n"
      ],
      "metadata": {
        "id": "MNuQSgcPbJSz"
      }
    },
    {
      "cell_type": "markdown",
      "source": [
        "Generar un DataFrame con 100 filas y 8 columnas de valores aleatorios, y luego mostrar un resumen estadístico de los datos."
      ],
      "metadata": {
        "id": "YBvyNKqnbLet"
      }
    },
    {
      "cell_type": "code",
      "source": [
        "DataFrame = pd.DataFrame(np.random.rand(100, 8))\n",
        "Vistas = DataFrame.describe()\n",
        "print(Vistas)"
      ],
      "metadata": {
        "colab": {
          "base_uri": "https://localhost:8080/"
        },
        "id": "n5cFrhP6bS8x",
        "outputId": "8daa91d0-e081-4bf3-f99e-156011d3c61c"
      },
      "execution_count": null,
      "outputs": [
        {
          "output_type": "stream",
          "name": "stdout",
          "text": [
            "                0           1           2           3           4           5  \\\n",
            "count  100.000000  100.000000  100.000000  100.000000  100.000000  100.000000   \n",
            "mean     0.500592    0.526636    0.527470    0.535112    0.474175    0.518227   \n",
            "std      0.308261    0.268698    0.282276    0.296147    0.286656    0.300412   \n",
            "min      0.010073    0.014175    0.000210    0.003219    0.010659    0.006228   \n",
            "25%      0.208084    0.299384    0.306646    0.298597    0.202924    0.260664   \n",
            "50%      0.509262    0.516881    0.543184    0.533812    0.482272    0.515273   \n",
            "75%      0.758703    0.750542    0.762887    0.770965    0.693833    0.773500   \n",
            "max      0.996881    0.998501    0.990884    0.998347    0.984995    0.986213   \n",
            "\n",
            "                6           7  \n",
            "count  100.000000  100.000000  \n",
            "mean     0.483047    0.536938  \n",
            "std      0.257704    0.269565  \n",
            "min      0.015354    0.019726  \n",
            "25%      0.274681    0.306422  \n",
            "50%      0.474533    0.544652  \n",
            "75%      0.679280    0.754175  \n",
            "max      0.985257    0.981834  \n"
          ]
        }
      ]
    },
    {
      "cell_type": "markdown",
      "source": [
        "\n",
        "\n",
        "---\n",
        "\n"
      ],
      "metadata": {
        "id": "UN6MJOQpcLih"
      }
    },
    {
      "cell_type": "markdown",
      "source": [
        "**Ejercicio de práctica 2.**\n"
      ],
      "metadata": {
        "id": "lVH7eDk2cP2l"
      }
    },
    {
      "cell_type": "markdown",
      "source": [
        "Crear un array de números del 1 al 10 y mostrar la suma, la media, y el valor máximo.\n"
      ],
      "metadata": {
        "id": "PL7cQP7Tcbkw"
      }
    },
    {
      "cell_type": "code",
      "source": [
        "crea_array = np.array(range(1,11))\n",
        "suma_array = crea_array.sum()\n",
        "media_array = crea_array.mean()\n",
        "max_array = crea_array.max()\n",
        "\n",
        "print(suma_array) # Suma de array\n",
        "print(media_array) # Promedio\n",
        "print(max_array) # Valor maximo\n"
      ],
      "metadata": {
        "colab": {
          "base_uri": "https://localhost:8080/"
        },
        "id": "QxrnL7XmchMk",
        "outputId": "174be5c2-7650-4d2e-fd4b-b2686e64be38"
      },
      "execution_count": null,
      "outputs": [
        {
          "output_type": "stream",
          "name": "stdout",
          "text": [
            "55\n",
            "5.5\n",
            "10\n"
          ]
        }
      ]
    },
    {
      "cell_type": "markdown",
      "source": [
        "\n",
        "\n",
        "---\n",
        "\n"
      ],
      "metadata": {
        "id": "snL2jk1CebD0"
      }
    },
    {
      "cell_type": "markdown",
      "source": [
        "Crear un array de 3x4 lleno de ceros y luego cambiar su forma a 2x6.\n"
      ],
      "metadata": {
        "id": "7-Mvm5mDedOl"
      }
    },
    {
      "cell_type": "code",
      "source": [
        "arr_1 = np.zeros((3,4)) # crea un array de 3x4 con datos en cero.\n",
        "\n",
        "arr_2 = arr_1.reshape((2,6)) # modifica el array de 3x4 a 2x6.\n",
        "print(arr_2)"
      ],
      "metadata": {
        "colab": {
          "base_uri": "https://localhost:8080/"
        },
        "id": "KFCr7WTmeeMy",
        "outputId": "63faac9d-cc22-43f6-9e30-c15771e59b84"
      },
      "execution_count": null,
      "outputs": [
        {
          "output_type": "stream",
          "name": "stdout",
          "text": [
            "[[0. 0. 0. 0. 0. 0.]\n",
            " [0. 0. 0. 0. 0. 0.]]\n"
          ]
        }
      ]
    },
    {
      "cell_type": "markdown",
      "source": [
        "\n",
        "\n",
        "---\n",
        "\n"
      ],
      "metadata": {
        "id": "Xab49SJthyKE"
      }
    },
    {
      "cell_type": "markdown",
      "source": [
        "Generar una matriz aleatoria de 3x3 y calcular su transpuesta.\n"
      ],
      "metadata": {
        "id": "aXB2M8F9h0Ou"
      }
    },
    {
      "cell_type": "code",
      "source": [
        "arr_3 = np.random.randint(1, 1000, (3,3)) #genera la mariz con números enteros aleatorios que se encuentren entre 1 y 1000.\n",
        "print(arr_3)"
      ],
      "metadata": {
        "colab": {
          "base_uri": "https://localhost:8080/"
        },
        "id": "rng6DrgZh1EU",
        "outputId": "2790d560-d437-404e-9757-f4c59967b74b"
      },
      "execution_count": 11,
      "outputs": [
        {
          "output_type": "stream",
          "name": "stdout",
          "text": [
            "[[792 626 127]\n",
            " [433 785  13]\n",
            " [516 563 176]]\n"
          ]
        }
      ]
    },
    {
      "cell_type": "code",
      "source": [
        "calculo_transpuesta = arr_3.transpose() # Con el método .transpose() se calcula la transposición del array.\n",
        "print(calculo_transpuesta)"
      ],
      "metadata": {
        "colab": {
          "base_uri": "https://localhost:8080/"
        },
        "id": "Z59hwzZ_5l9d",
        "outputId": "406f6079-e29a-4500-9c53-c9af2b16b55a"
      },
      "execution_count": 14,
      "outputs": [
        {
          "output_type": "stream",
          "name": "stdout",
          "text": [
            "[[792 433 516]\n",
            " [626 785 563]\n",
            " [127  13 176]]\n"
          ]
        }
      ]
    },
    {
      "cell_type": "markdown",
      "source": [
        "\n",
        "\n",
        "---\n",
        "\n"
      ],
      "metadata": {
        "id": "e0WlQTKb67iD"
      }
    },
    {
      "cell_type": "markdown",
      "source": [
        "Concatenar dos arrays de NumPy, cada uno con 5 valores, y luego imprimir el array concatenado"
      ],
      "metadata": {
        "id": "1wJGnNHS69Wn"
      }
    },
    {
      "cell_type": "code",
      "source": [
        "a = np.array([1, 2, 3, 4, 5])\n",
        "b = np.array([6, 7, 8, 9, 10])\n",
        "c = np.concatenate((a, b)) # concatena el array a con el b\n",
        "print(c)\n"
      ],
      "metadata": {
        "colab": {
          "base_uri": "https://localhost:8080/"
        },
        "id": "IHu7TRgC6-XF",
        "outputId": "e7213374-bf1c-4179-f801-4381eee90a02"
      },
      "execution_count": 19,
      "outputs": [
        {
          "output_type": "stream",
          "name": "stdout",
          "text": [
            "[ 1  2  3  4  5  6  7  8  9 10]\n"
          ]
        }
      ]
    },
    {
      "cell_type": "markdown",
      "source": [
        "\n",
        "\n",
        "---\n",
        "\n"
      ],
      "metadata": {
        "id": "KKMEqZXy86bn"
      }
    }
  ]
}